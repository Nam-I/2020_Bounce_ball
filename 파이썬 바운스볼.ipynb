{
 "cells": [
  {
   "cell_type": "code",
   "execution_count": 1,
   "metadata": {},
   "outputs": [
    {
     "ename": "TclError",
     "evalue": "can't invoke \"update\" command: application has been destroyed",
     "output_type": "error",
     "traceback": [
      "\u001b[1;31m---------------------------------------------------------------------------\u001b[0m",
      "\u001b[1;31mTclError\u001b[0m                                  Traceback (most recent call last)",
      "\u001b[1;32m<ipython-input-1-41b7d5cb2908>\u001b[0m in \u001b[0;36m<module>\u001b[1;34m\u001b[0m\n\u001b[0;32m     71\u001b[0m         \u001b[0mball\u001b[0m\u001b[1;33m.\u001b[0m\u001b[0mdraw\u001b[0m\u001b[1;33m(\u001b[0m\u001b[1;33m)\u001b[0m\u001b[1;33m\u001b[0m\u001b[1;33m\u001b[0m\u001b[0m\n\u001b[0;32m     72\u001b[0m         \u001b[0mpaddle\u001b[0m\u001b[1;33m.\u001b[0m\u001b[0mdraw\u001b[0m\u001b[1;33m(\u001b[0m\u001b[1;33m)\u001b[0m\u001b[1;33m\u001b[0m\u001b[1;33m\u001b[0m\u001b[0m\n\u001b[1;32m---> 73\u001b[1;33m     \u001b[0mtk\u001b[0m\u001b[1;33m.\u001b[0m\u001b[0mupdate_idletasks\u001b[0m\u001b[1;33m(\u001b[0m\u001b[1;33m)\u001b[0m\u001b[1;33m\u001b[0m\u001b[1;33m\u001b[0m\u001b[0m\n\u001b[0m\u001b[0;32m     74\u001b[0m     \u001b[0mtk\u001b[0m\u001b[1;33m.\u001b[0m\u001b[0mupdate\u001b[0m\u001b[1;33m(\u001b[0m\u001b[1;33m)\u001b[0m\u001b[1;33m\u001b[0m\u001b[1;33m\u001b[0m\u001b[0m\n\u001b[0;32m     75\u001b[0m     \u001b[0mtime\u001b[0m\u001b[1;33m.\u001b[0m\u001b[0msleep\u001b[0m\u001b[1;33m(\u001b[0m\u001b[1;36m0.0001\u001b[0m\u001b[1;33m)\u001b[0m\u001b[1;33m\u001b[0m\u001b[1;33m\u001b[0m\u001b[0m\n",
      "\u001b[1;32m~\\anaconda3\\lib\\tkinter\\__init__.py\u001b[0m in \u001b[0;36mupdate_idletasks\u001b[1;34m(self)\u001b[0m\n\u001b[0;32m   1180\u001b[0m         \u001b[0mwill\u001b[0m \u001b[0mupdate\u001b[0m \u001b[0mthe\u001b[0m \u001b[0mdisplay\u001b[0m \u001b[0mof\u001b[0m \u001b[0mwindows\u001b[0m \u001b[0mbut\u001b[0m \u001b[1;32mnot\u001b[0m \u001b[0mprocess\u001b[0m \u001b[0mevents\u001b[0m \u001b[0mcaused\u001b[0m \u001b[0mby\u001b[0m\u001b[1;33m\u001b[0m\u001b[1;33m\u001b[0m\u001b[0m\n\u001b[0;32m   1181\u001b[0m         the user.\"\"\"\n\u001b[1;32m-> 1182\u001b[1;33m         \u001b[0mself\u001b[0m\u001b[1;33m.\u001b[0m\u001b[0mtk\u001b[0m\u001b[1;33m.\u001b[0m\u001b[0mcall\u001b[0m\u001b[1;33m(\u001b[0m\u001b[1;34m'update'\u001b[0m\u001b[1;33m,\u001b[0m \u001b[1;34m'idletasks'\u001b[0m\u001b[1;33m)\u001b[0m\u001b[1;33m\u001b[0m\u001b[1;33m\u001b[0m\u001b[0m\n\u001b[0m\u001b[0;32m   1183\u001b[0m     \u001b[1;32mdef\u001b[0m \u001b[0mbindtags\u001b[0m\u001b[1;33m(\u001b[0m\u001b[0mself\u001b[0m\u001b[1;33m,\u001b[0m \u001b[0mtagList\u001b[0m\u001b[1;33m=\u001b[0m\u001b[1;32mNone\u001b[0m\u001b[1;33m)\u001b[0m\u001b[1;33m:\u001b[0m\u001b[1;33m\u001b[0m\u001b[1;33m\u001b[0m\u001b[0m\n\u001b[0;32m   1184\u001b[0m         \"\"\"Set or get the list of bindtags for this widget.\n",
      "\u001b[1;31mTclError\u001b[0m: can't invoke \"update\" command: application has been destroyed"
     ]
    }
   ],
   "source": [
    "from tkinter import *\n",
    "import random\n",
    "import time\n",
    " \n",
    "class Ball:\n",
    "    def __init__(self, canvas, paddle, color):\n",
    "        self.canvas=canvas\n",
    "        self.paddle=paddle\n",
    "        self.id=canvas.create_oval(10,10,25,25,fill=color)\n",
    "        self.canvas.move(self.id,245,100)\n",
    "        starts=[-4,-3,-2,2,3,4]\n",
    "        random.shuffle(starts)\n",
    "        self.x=starts[0]\n",
    "        self.y=-4\n",
    "        self.canvas_height=self.canvas.winfo_height()\n",
    "        self.canvas_width=self.canvas.winfo_width()\n",
    "        self.hit_bottom=False\n",
    "    def hit_paddle(self,pos):\n",
    "        paddle_pos=self.canvas.coords(self.paddle.id)\n",
    "        if pos[2]>=paddle_pos[0] and pos[0]<=paddle_pos[2]:\n",
    "            if pos[3]>=paddle_pos[1] and pos[3] <=paddle_pos[3]:\n",
    "                return True\n",
    "        return False\n",
    "    def draw(self):\n",
    "        self.canvas.move(self.id, self.x, self.y)\n",
    "        pos=self.canvas.coords(self.id)\n",
    "        if pos[1]<=0:\n",
    "            self.y=4\n",
    "        if pos[3]>=self.canvas_height:\n",
    "            self.hit_bottom=True\n",
    "        if self.hit_paddle(pos)==True:\n",
    "            self.y=-4\n",
    "        if pos[0]<=0:\n",
    "            self.x=4\n",
    "        if pos[2]>=self.canvas_width:\n",
    "            self.x=-4\n",
    " \n",
    "class Paddle:\n",
    "    def __init__(self, canvas, color):\n",
    "        self.canvas=canvas\n",
    "        self.id=canvas.create_rectangle(0,0,120,8,fill=color)\n",
    "        self.canvas.move(self.id, 200, 300)\n",
    "        self.x=0\n",
    "        self.canvas_width=self.canvas.winfo_width()\n",
    "        self.canvas.bind_all('<KeyPress-Left>',self.turn_left)\n",
    "        self.canvas.bind_all('<KeyPress-Right>',self.turn_right)\n",
    "    def draw(self):\n",
    "        self.canvas.move(self.id,self.x,0)\n",
    "        pos=self.canvas.coords(self.id)\n",
    "        if pos[0]<=0:\n",
    "            self.x=0\n",
    "        elif pos[2]>=self.canvas_width:\n",
    "            self.x=0\n",
    "    def turn_left(self, evt):\n",
    "        self.x=-4\n",
    "    def turn_right(self, evt):\n",
    "        self.x=4\n",
    " \n",
    "tk=Tk()\n",
    "tk.title('연구발표4_파이썬 공튀기기')\n",
    "tk.resizable(0,0)\n",
    "tk.wm_attributes('-topmost',1)\n",
    "canvas=Canvas(tk,width=550,height=420,bd=0, highlightthickness=0)\n",
    "canvas.pack()\n",
    "tk.update()\n",
    "paddle=Paddle(canvas,'#12EAFF')\n",
    "ball=Ball(canvas,paddle,'#FFFF24')\n",
    " \n",
    "while 1:\n",
    "    if ball.hit_bottom==False:\n",
    "        ball.draw()\n",
    "        paddle.draw()\n",
    "    tk.update_idletasks()\n",
    "    tk.update()\n",
    "    time.sleep(0.0001)"
   ]
  },
  {
   "cell_type": "code",
   "execution_count": null,
   "metadata": {},
   "outputs": [],
   "source": []
  },
  {
   "cell_type": "code",
   "execution_count": null,
   "metadata": {},
   "outputs": [],
   "source": []
  }
 ],
 "metadata": {
  "kernelspec": {
   "display_name": "Python 3",
   "language": "python",
   "name": "python3"
  },
  "language_info": {
   "codemirror_mode": {
    "name": "ipython",
    "version": 3
   },
   "file_extension": ".py",
   "mimetype": "text/x-python",
   "name": "python",
   "nbconvert_exporter": "python",
   "pygments_lexer": "ipython3",
   "version": "3.7.6"
  }
 },
 "nbformat": 4,
 "nbformat_minor": 4
}
